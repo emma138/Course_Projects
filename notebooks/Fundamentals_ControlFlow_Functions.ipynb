{
  "cells": [
    {
      "cell_type": "markdown",
      "id": "1e5a8215-0853-4154-9139-e90aa243a02a",
      "metadata": {
        "id": "1e5a8215-0853-4154-9139-e90aa243a02a"
      },
      "source": [
        "### This notebook goes over Python __flow control__ and the syntax and utility of __functions__.\n",
        "\n",
        "__Author__: Dr. Beadling. For any questions regarding the contents of this notebook please contact rebecca.beadling@temple.edu."
      ]
    },
    {
      "cell_type": "markdown",
      "id": "33c8c879-2f10-41bc-84e0-c4b1428d649a",
      "metadata": {
        "tags": [],
        "id": "33c8c879-2f10-41bc-84e0-c4b1428d649a"
      },
      "source": [
        "### You should be __entering__ this lesson with ...\n",
        "* Having completely worked through `hello_world.ipynb`\n",
        "* Knowledge of the fundamentals of the structure of a Jupyter notebook including how to execute cells, cell types, how to format Markdown cells, and the usefulness of including Markdown throughout your notebooks for descriptive documentation.\n",
        "* Python fundamentals including import statements, data types, basic arithematic operations, logical (boolean) operators, indexing (remember our first element is always [0] in Python!!)\n",
        "* Knowledge of how to use git status, git commit, git push.\n",
        "\n",
        "### You should be __leaving__ this lesson with ...\n",
        "* The ability to use statements for __Control flow__ within your code including the use of: `if`, `else`, `elif`, `for loops`, and `while loops`.\n",
        "* An understanding of the syntax of a __function__ within Python including __defining functions__ and for __calling the function__.\n",
        "* The ability to write basic functions, which contain control flow statements, that return a desired result."
      ]
    },
    {
      "cell_type": "code",
      "execution_count": 1,
      "id": "73c4ed8a-9d36-4d99-a53b-4b8a6e6349c5",
      "metadata": {
        "tags": [],
        "id": "73c4ed8a-9d36-4d99-a53b-4b8a6e6349c5"
      },
      "outputs": [],
      "source": [
        "# import the entire numpy library, giving it the alias 'np'\n",
        "import numpy as np"
      ]
    },
    {
      "cell_type": "markdown",
      "id": "34a9452e-888d-4d93-9ee4-81a2bda4195c",
      "metadata": {
        "tags": [],
        "id": "34a9452e-888d-4d93-9ee4-81a2bda4195c"
      },
      "source": [
        "![](https://img.hellofresh.com/hellofresh_s3/image/cauliflower-bacon-mac-n-cheese-bda3eb35.jpg)"
      ]
    },
    {
      "cell_type": "markdown",
      "id": "b82fa3bf-56fd-4905-8bf9-3aae7e948045",
      "metadata": {
        "id": "b82fa3bf-56fd-4905-8bf9-3aae7e948045"
      },
      "source": [
        "#### __To create the dish in the image above, we must follow the instructions below__.\n",
        "\n",
        "1. Wash and dry all produce.\n",
        "2. Preheat oven to 400 degrees.\n",
        "3. Bring a large pot of salted water to a boil.\n",
        "4. Thinly slice scallions, keeping greens and whites separate.\n",
        "5. Toss cauliflower on a baking sheet with a large drizzle of olive oil and a pinch of salt and pepper.\n",
        "6. Roast in oven until tender, 20-25 minutes.\n",
        "7. Once water is boiling, add cavatappi to pot.\n",
        "8. Cook, stirring occasionally, until al dente, 9-11 minutes.\n",
        "9. Drain.\n",
        "10. Heat a large pan over medium-high heat (use an ovenproof pan if you have one).\n",
        "11. Add bacon and cook, turning occasionally, until just browned and crispy, 4-6 minutes.\n",
        "12. Remove from pan and set aside to drain on paper towels.\n",
        "13. Pour out all but 1 tsp grease in pan.\n",
        "14. Crumble bacon into small pieces with hands.\n",
        "15. Stir bacon, cavatappi, and ¾ of the cauliflower into sauce in pan.\n",
        "    (TIP: __If__ your pan is not ovenproof, transfer mixture to a medium, lightly oiled baking dish at this point.\n",
        "16. Scatter remaining cauliflower over top.\n",
        "17. Bake in oven until bubbly, 5-7 minutes.\n",
        "18. Divide mac ’n’ cheese between plates.\n",
        "19. Garnish with scallion greens and serve."
      ]
    },
    {
      "cell_type": "markdown",
      "id": "f3e1ddd3-b170-42ee-aa62-3e9d4cc45f95",
      "metadata": {
        "tags": [],
        "id": "f3e1ddd3-b170-42ee-aa62-3e9d4cc45f95"
      },
      "source": [
        "### There are certain steps in the recipe above that __must__ be done before others, i.e., to cook our mac 'n' cheese we must do things in a __certain order__.\n",
        "* Before we roast the cauliflower in the oven (Step 6), we first need to Preheat the oven (Step 2) --- otherwise it won't roast!\n",
        "* Before we add the pasta to the pot (Step 7), we must have first brought the water to a boil (Step 3).\n",
        "* Before we crumble bacon with our hands (Step 14), we must have first cooked the bacon (Step 11)."
      ]
    },
    {
      "cell_type": "markdown",
      "id": "a585245b-55b3-4cda-83f1-1a913d937e0e",
      "metadata": {
        "id": "a585245b-55b3-4cda-83f1-1a913d937e0e"
      },
      "source": [
        "### You should also notice in the recipe above there are several `if` statements that allow for some flexibility in your recipe or different __possible flow of control__.\n",
        "* In step 10, `if` we had an ovenproof pan, we could have used that instead of a regular large pan.\n",
        "* In step 15, `if` we did not use an ovenproof pan we needed to transfer our mixture to a medium, lightly oiled baking dish. But `if` we did use an ovenproof pan, we could have skipped this step!\n",
        "\n",
        "#### You could imagine that you could introduce many more `if` statements into your recipe to customize it to an individuals preferences:\n",
        "* `if` you are a vegetarian, you could have used a substitute for bacon in step 11.\n",
        "* `if` you wanted to air-fry your cauliflower instead of baking it, you would have had a very different set of instructions regarding cooktime, etc."
      ]
    },
    {
      "cell_type": "markdown",
      "id": "aef026a1-07ec-4834-b046-694e91621104",
      "metadata": {
        "id": "aef026a1-07ec-4834-b046-694e91621104"
      },
      "source": [
        "# if Statements\n",
        "### The `if` statement evaluates an expression, and `if` that expression is `True`, it then executes the code that follows. The `if` statement is a __Conditional Statement__, i.e., it requires the result of the statement immediately after it to evaluate to `True` for the code to execute. When writing flow control statements, __indentation is mandatory__ and __code blocks__ are closed by identation."
      ]
    },
    {
      "cell_type": "code",
      "execution_count": null,
      "id": "d78e9fe4-b0cc-4a75-bfa8-c5f9718c1201",
      "metadata": {
        "tags": [],
        "id": "d78e9fe4-b0cc-4a75-bfa8-c5f9718c1201",
        "outputId": "43b1349e-a4de-4056-c3ad-d9c30c230191"
      },
      "outputs": [
        {
          "name": "stdout",
          "output_type": "stream",
          "text": [
            "Hi, Dr. Beadling\n"
          ]
        }
      ],
      "source": [
        "name = 'Dr. Beadling'  # Define a variable called name that is equal to the string, Dr. Beadling\n",
        "\n",
        "if name == 'Dr. Beadling': # our statement that must evaluate to True for this code to execute, i.e., name MUST BE EQUAL TO DR. BEADLING\n",
        "    print('Hi, Dr. Beadling')"
      ]
    },
    {
      "cell_type": "markdown",
      "id": "e6d57f5a-38d1-4dae-a836-06089469ca94",
      "metadata": {
        "id": "e6d57f5a-38d1-4dae-a836-06089469ca94"
      },
      "source": [
        "### <span style=\"color:red\"> Change the value of the variable name in the first line of the cell above to your name, leave everything else unchanged. Execute the cell again - what is the result? Change it back to Dr. Beadling and run it again - what is the result? Remove the indent in front of the print statement and run it again - what is the result?\n",
        "\n",
        "### <span style=\"color:red\"> In the cell below, write markdown text that explains the behavior observed in the steps above."
      ]
    },
    {
      "cell_type": "code",
      "execution_count": null,
      "id": "a14d8d13-d6c5-41f6-849b-00f7263eb520",
      "metadata": {
        "id": "a14d8d13-d6c5-41f6-849b-00f7263eb520"
      },
      "outputs": [],
      "source": []
    },
    {
      "cell_type": "markdown",
      "id": "f0577613-267c-4932-8695-6e75d8d8fb0b",
      "metadata": {
        "id": "f0577613-267c-4932-8695-6e75d8d8fb0b"
      },
      "source": [
        "### <span style=\"color:red\"> In the cell below, rewrite the code so that it returns __your name__ and execute the cell. Put comments next to each line that explains in _words_ what the statement says."
      ]
    },
    {
      "cell_type": "code",
      "execution_count": null,
      "id": "19aefadb-d17c-45a3-828d-f6b43c3c00ed",
      "metadata": {
        "id": "19aefadb-d17c-45a3-828d-f6b43c3c00ed"
      },
      "outputs": [],
      "source": []
    },
    {
      "cell_type": "markdown",
      "id": "f728fc0d-4d87-447e-8664-69397fa7e217",
      "metadata": {
        "id": "f728fc0d-4d87-447e-8664-69397fa7e217"
      },
      "source": [
        "## It is worth reviewing here from our hello_world.ipynb what our conditional statement options are:\n",
        "\n",
        "#### Comparison operators are used to compare values and evaluate down to a single Boolean value of either `True` or `False`:\n",
        "* #### `==` _Equal to_ : results in a `True` if the 2 operands are equal, and a `False` if unequal.\n",
        "* #### `!=` _Not equal to_ : results in a `True` if the 2 operands are unequal, and a `False` if equal.\n",
        "* #### `<` _Less than_ : results in a `True` if the first operand is smaller than the second, else a `False`.\n",
        "* #### `>` _Greater than_ : results in a `True` if the first operand is greater than the second, else a `False`.\n",
        "* #### `<=` _Less than or equal to_ : results in a `True` if the first operand is lesser than or equal to the second, else a `False`.\n",
        "* #### `>=` _Greater than or equal to_ : results in a `True` if the first operand is greater than or equal to the second, else a `False`."
      ]
    },
    {
      "cell_type": "code",
      "execution_count": null,
      "id": "b880e89b-3777-4a02-ae10-ebd64934bcea",
      "metadata": {
        "tags": [],
        "id": "b880e89b-3777-4a02-ae10-ebd64934bcea",
        "outputId": "0ee4f1a9-c1c1-4836-cc91-35ac9095999b"
      },
      "outputs": [
        {
          "name": "stdout",
          "output_type": "stream",
          "text": [
            "You are not George\n"
          ]
        }
      ],
      "source": [
        "if name != 'George':\n",
        "    print('You are not George')"
      ]
    },
    {
      "cell_type": "markdown",
      "id": "ca6346df-5b0a-4096-87ab-2665992f8662",
      "metadata": {
        "tags": [],
        "id": "ca6346df-5b0a-4096-87ab-2665992f8662"
      },
      "source": [
        "### <span style=\"color:red\"> Put comments next to each line in the code cell above that explains in _words_ what the statement says. As Markdown in the cell below, describe why did we __not__ have to define our name variable again? What is the current value of your name variable? Change it to your name if it is not!"
      ]
    },
    {
      "cell_type": "code",
      "execution_count": null,
      "id": "a58fc8d3-4247-4a6d-8ce7-d595aee18ede",
      "metadata": {
        "tags": [],
        "id": "a58fc8d3-4247-4a6d-8ce7-d595aee18ede"
      },
      "outputs": [],
      "source": []
    },
    {
      "cell_type": "markdown",
      "id": "35411a8d-2c31-4dff-8c2b-216841484c56",
      "metadata": {
        "id": "35411a8d-2c31-4dff-8c2b-216841484c56"
      },
      "source": [
        "#### What if we wanted an option to say _something_ instead of returning nothing if the name is not ours? i.e., we want more possible options in our recipe.\n",
        "\n",
        "#### We can use an `else` statement in combination with `if` that will execute the code following `else` if the statment following the `if` statement evaluates to `False`."
      ]
    },
    {
      "cell_type": "code",
      "execution_count": null,
      "id": "93811d5c-ba9e-4b72-acf1-e72eb0ff1c50",
      "metadata": {
        "id": "93811d5c-ba9e-4b72-acf1-e72eb0ff1c50",
        "outputId": "7a8906da-a0c8-4c69-ba40-d6e6c8361b1a"
      },
      "outputs": [
        {
          "name": "stdout",
          "output_type": "stream",
          "text": [
            "You are not Dr. Beadling\n"
          ]
        }
      ],
      "source": [
        "name = 'George'  # assign value 'George' to variable name.\n",
        "\n",
        "if name == 'Dr. Beadling':    # our statement must evaluate to True for this code below to execute.\n",
        "    print('Hi, Dr. Beadling.')\n",
        "else:                         # if the statement following `if` above evaluates to False, THEN do this.\n",
        "    print('You are not Dr. Beadling')"
      ]
    },
    {
      "cell_type": "markdown",
      "id": "a868ea4f-af62-45e6-889f-75dbfc72ce15",
      "metadata": {
        "id": "a868ea4f-af62-45e6-889f-75dbfc72ce15"
      },
      "source": [
        "#### We can use an `elif` statement in combination with an `if` statement or in combination with `if` and `else` to add more possible outcomes to our code. `elif` stands for \"else if\", i.e, similar to `else`, the code following the `elif` will execute if the statement following `if` evaluates to `False` __and__ the statement following `elif` evaluates to `True`.\n",
        "\n",
        "### <span style=\"color:red\"> Explore what happens in the code below if you switch the name from George to Nancy. Do you understand why this occurs?"
      ]
    },
    {
      "cell_type": "code",
      "execution_count": null,
      "id": "29dccd52-94d3-4c0d-b0ad-c720ad780caf",
      "metadata": {
        "tags": [],
        "id": "29dccd52-94d3-4c0d-b0ad-c720ad780caf",
        "outputId": "dc26549b-2b2e-48e2-ba29-0767cf2250cf"
      },
      "outputs": [
        {
          "name": "stdout",
          "output_type": "stream",
          "text": [
            "Hi George!\n"
          ]
        }
      ],
      "source": [
        "name = 'George' # assign value 'George' to variable name\n",
        "\n",
        "if name == 'Debora': # our statement must evaluate to True for this code below to execute.\n",
        "    print('Hi Debora!')\n",
        "elif name == 'George': # our statement must evaluate to True for this code below to execute.\n",
        "    print('Hi George!')"
      ]
    },
    {
      "cell_type": "markdown",
      "id": "3253dd0e-975a-47e1-9457-6e646e5d1a53",
      "metadata": {
        "id": "3253dd0e-975a-47e1-9457-6e646e5d1a53"
      },
      "source": [
        "### <span style=\"color:red\"> Before you run the cell below, make a prediction of what the result will be. Explain why."
      ]
    },
    {
      "cell_type": "code",
      "execution_count": null,
      "id": "9d5d6fd9-6d60-4e5c-806d-e1f08d19ca73",
      "metadata": {
        "tags": [],
        "id": "9d5d6fd9-6d60-4e5c-806d-e1f08d19ca73",
        "outputId": "9cebc112-7c0d-4804-d8bb-13e1fddff937"
      },
      "outputs": [
        {
          "name": "stdout",
          "output_type": "stream",
          "text": [
            "Who are you?\n"
          ]
        }
      ],
      "source": [
        "name = 'Dr. Beadling'\n",
        "\n",
        "if name == 'Debora':\n",
        "    print('Hi Debora!')\n",
        "elif name == 'George':\n",
        "    print('Hi George!')\n",
        "else:\n",
        "    print('Who are you?')"
      ]
    },
    {
      "cell_type": "code",
      "execution_count": null,
      "id": "8af89d4c-f4b3-4fcc-92c6-403094ed63c1",
      "metadata": {
        "tags": [],
        "id": "8af89d4c-f4b3-4fcc-92c6-403094ed63c1",
        "outputId": "ccb2d403-ea94-4371-ac08-f0cd8b25d569"
      },
      "outputs": [
        {
          "name": "stdout",
          "output_type": "stream",
          "text": [
            "Positive Number\n"
          ]
        }
      ],
      "source": [
        "x = 100\n",
        "if x > 0:\n",
        "    print('Positive Number')\n",
        "elif x < 0:\n",
        "    print('Negative Number')\n",
        "else:\n",
        "    print ('Zero!')"
      ]
    },
    {
      "cell_type": "markdown",
      "id": "9baa2863-5cd5-49ef-818e-51f789dd2551",
      "metadata": {
        "id": "9baa2863-5cd5-49ef-818e-51f789dd2551"
      },
      "source": [
        "### We can nest `if` statements within `if` statements. Remember that indentation is mandatory!!!"
      ]
    },
    {
      "cell_type": "code",
      "execution_count": null,
      "id": "dac58925-7a94-4e34-aaaa-867a68fdd272",
      "metadata": {
        "tags": [],
        "id": "dac58925-7a94-4e34-aaaa-867a68fdd272",
        "outputId": "afc07f8d-a5a6-4da1-df08-a6260f2bde44"
      },
      "outputs": [
        {
          "name": "stdout",
          "output_type": "stream",
          "text": [
            "Positive Number\n",
            "Huge number!\n"
          ]
        }
      ],
      "source": [
        "if x > 0:\n",
        "    print('Positive Number')\n",
        "    if x >= 100:\n",
        "        print('Huge number!')"
      ]
    },
    {
      "cell_type": "markdown",
      "id": "12542f34-01d1-483d-b6f3-ca0d74acc3d1",
      "metadata": {
        "id": "12542f34-01d1-483d-b6f3-ca0d74acc3d1"
      },
      "source": [
        "### Voila! That is basic, yet powerful, Control Flow in Python!"
      ]
    },
    {
      "cell_type": "markdown",
      "id": "5ac45321-34d5-4112-9ae2-60eb7cdcecdc",
      "metadata": {
        "id": "5ac45321-34d5-4112-9ae2-60eb7cdcecdc"
      },
      "source": [
        "### <span style=\"color:red\"> Take 5 minutes and write three progams (in 3 code cells below) that incorporate `if`, `else`, and / or `elif` statements to produce a desired outcome. We have used mostly `str` data types so far in our examples, but incorporate another one of Python's data types in one of your programs. Accompanying your code, write using either comments within the code cell, or Markdown above the cell, what your code does, describing each line. Explain your code to the person sitting next to you after you are done."
      ]
    },
    {
      "cell_type": "code",
      "execution_count": null,
      "id": "cf55f69d-9d8b-49c5-b3fb-0ec4a9e0be37",
      "metadata": {
        "id": "cf55f69d-9d8b-49c5-b3fb-0ec4a9e0be37"
      },
      "outputs": [],
      "source": []
    },
    {
      "cell_type": "code",
      "execution_count": null,
      "id": "18157e8a-835e-47f9-b601-7a07ae399e56",
      "metadata": {
        "id": "18157e8a-835e-47f9-b601-7a07ae399e56"
      },
      "outputs": [],
      "source": []
    },
    {
      "cell_type": "code",
      "execution_count": null,
      "id": "7a14fd0b-22f6-4e22-9f49-de802edcbe9e",
      "metadata": {
        "id": "7a14fd0b-22f6-4e22-9f49-de802edcbe9e"
      },
      "outputs": [],
      "source": []
    },
    {
      "cell_type": "markdown",
      "id": "667fa198-0d51-4099-9334-66adad38b772",
      "metadata": {
        "tags": [],
        "id": "667fa198-0d51-4099-9334-66adad38b772"
      },
      "source": [
        "# The power of __looping__.\n",
        "### Python has two primitive loop commands:\n",
        "* `while` loops\n",
        "* `for` loops\n",
        "\n",
        "### A loop is powerful because it allows for __repeated execution__ of code. This means that the code is continually repeated __until a certain condition__, defined by the user, is reached. Imagine that you could have your computer do something a thousand times, but you only have to press a button once!"
      ]
    },
    {
      "cell_type": "markdown",
      "id": "dce2d35f-7a54-4470-8188-9e042e945d8d",
      "metadata": {
        "id": "dce2d35f-7a54-4470-8188-9e042e945d8d"
      },
      "source": [
        "## While Statements / Loops\n",
        "### The `while` statement is used for __repeated execution__ of statements as long as the expression being evaluated is `True`. Just like any other Control Flow statement, indentation is mandatory!! The `while` loop requires relevant variables to be ready, in the example below we need to define an __indexing variable__, planets, which we set initially to 0."
      ]
    },
    {
      "cell_type": "code",
      "execution_count": null,
      "id": "ebbc0c36-13ea-4a8f-8b9b-151a3c2a6c27",
      "metadata": {
        "tags": [],
        "id": "ebbc0c36-13ea-4a8f-8b9b-151a3c2a6c27",
        "outputId": "7ffd7639-3930-48a4-8273-f757d9f61b07"
      },
      "outputs": [
        {
          "name": "stdout",
          "output_type": "stream",
          "text": [
            "planets\n",
            "planets\n",
            "planets\n",
            "planets\n",
            "planets\n",
            "planets\n",
            "planets\n",
            "planets\n"
          ]
        }
      ],
      "source": [
        "planets = 0                # define a variable planet that is equal to zero (0)\n",
        "while planets < 8:             # while the value of planet is LESS THAN (<) 8, do the following ..\n",
        "    print('planets')            # print the word planet\n",
        "    planets = planets + 1      # THEN take the value of planet and add 1 to it, i.e., INCREMENT by 1"
      ]
    },
    {
      "cell_type": "markdown",
      "id": "1060a75e-8bb3-4e5b-baeb-9bc3f4abb098",
      "metadata": {
        "id": "1060a75e-8bb3-4e5b-baeb-9bc3f4abb098"
      },
      "source": [
        "#### In words, the code above does the following:"
      ]
    },
    {
      "cell_type": "markdown",
      "id": "97886e46-638e-457b-ad28-f50d6f76fe53",
      "metadata": {
        "id": "97886e46-638e-457b-ad28-f50d6f76fe53"
      },
      "source": [
        "* define a variable named planets and set it equal to 1\n",
        "* while the value of 'planets' is less than 8, do the following:\n",
        "* print the word 'planet'\n",
        "* set the variable planets equal to the current value of planets plus 1.\n",
        "* Now repeat the same exact steps above, but for the new value of planets.\n",
        "* Repeat UNTIL the value of planets is NO LONGER < 8 (i.e., execution of the code will stop when planets < 8 is `False`)\n",
        "\n",
        "### The last point here where we increment a variable by 1 and update the original value is a __key concept__ to grasp. Take a minute a work through __by hand__ each step of the code above."
      ]
    },
    {
      "cell_type": "markdown",
      "id": "e730a076-2af4-49a9-b124-3d0798571b3b",
      "metadata": {
        "id": "e730a076-2af4-49a9-b124-3d0798571b3b"
      },
      "source": [
        "### <span style=\"color:red\"> If we changed our initial value of `planets` in the example code above to 5, how many times would planets would be printed out? Make a prediction and then test your code. Place your answer in the cell below."
      ]
    },
    {
      "cell_type": "code",
      "execution_count": null,
      "id": "7ebaacbe-2865-4a17-88f8-8aaa130c80fe",
      "metadata": {
        "id": "7ebaacbe-2865-4a17-88f8-8aaa130c80fe"
      },
      "outputs": [],
      "source": []
    },
    {
      "cell_type": "markdown",
      "id": "5b546145-5869-4822-b27e-953fc7637450",
      "metadata": {
        "id": "5b546145-5869-4822-b27e-953fc7637450"
      },
      "source": [
        "### Another `while` loop example using integer values:"
      ]
    },
    {
      "cell_type": "code",
      "execution_count": null,
      "id": "f993203d-484e-4733-a215-74a103438f49",
      "metadata": {
        "tags": [],
        "id": "f993203d-484e-4733-a215-74a103438f49",
        "outputId": "ac376ecc-8fc2-4e08-cdb8-599217be43c6"
      },
      "outputs": [
        {
          "name": "stdout",
          "output_type": "stream",
          "text": [
            "1\n",
            "2\n",
            "3\n",
            "4\n",
            "5\n"
          ]
        }
      ],
      "source": [
        "i = 1\n",
        "while i < 6:\n",
        "  print(i)\n",
        "  i = i+1"
      ]
    },
    {
      "cell_type": "markdown",
      "id": "5419bcf5-df8b-4bf9-a315-136f46c577b9",
      "metadata": {
        "id": "5419bcf5-df8b-4bf9-a315-136f46c577b9"
      },
      "source": [
        "### A short notation for writing the increment operation is shown in the code below. Instead of writing out `planets = planets + 1`, we can write `planets += 1` and achieve the same behavior. You will often encounter it written this way."
      ]
    },
    {
      "cell_type": "code",
      "execution_count": null,
      "id": "01d10c81-fc6f-459c-a7c5-4e34e4cdda04",
      "metadata": {
        "tags": [],
        "id": "01d10c81-fc6f-459c-a7c5-4e34e4cdda04",
        "outputId": "ec924cb0-ad99-4ed4-b3ae-8969edf3bdd6"
      },
      "outputs": [
        {
          "name": "stdout",
          "output_type": "stream",
          "text": [
            "planets\n",
            "planets\n",
            "planets\n",
            "planets\n",
            "planets\n",
            "planets\n",
            "planets\n",
            "planets\n"
          ]
        }
      ],
      "source": [
        "planets = 0                # define a variable planet that is equal to zero (0)\n",
        "while planets < 8:         # while the value of planet is LESS THAN (<) 8, do the following ..\n",
        "    print('planets')       # print the word planet\n",
        "    planets += 1           # THEN take the value of planet and add 1 to it, i.e., INCREMENT by 1"
      ]
    },
    {
      "cell_type": "markdown",
      "id": "3bff2438-5ef5-4c86-892c-7553e4db10bf",
      "metadata": {
        "id": "3bff2438-5ef5-4c86-892c-7553e4db10bf"
      },
      "source": [
        "## For Statements / Loops"
      ]
    },
    {
      "cell_type": "markdown",
      "id": "064faa29-87aa-4c5c-bc76-1b6cf5444539",
      "metadata": {
        "id": "064faa29-87aa-4c5c-bc76-1b6cf5444539"
      },
      "source": [
        "### A `for` loop is used for __iterating over a sequence__ (that is either a `list`, a `tuple` (we haven't covered this), a `dictionary`, a `set` (we haven't covered this), or a `string`). Within a `for` loop, we can execute a set of statements, __once for each item (element)__ in a list, tuple, string etc."
      ]
    },
    {
      "cell_type": "markdown",
      "id": "6045bb8e-c649-4f62-82ff-2e8085d73395",
      "metadata": {
        "id": "6045bb8e-c649-4f62-82ff-2e8085d73395"
      },
      "source": [
        "### The following code prints each element in the list `fruits`:"
      ]
    },
    {
      "cell_type": "code",
      "execution_count": null,
      "id": "309ec302-8028-4a51-871b-974eec9934f6",
      "metadata": {
        "tags": [],
        "id": "309ec302-8028-4a51-871b-974eec9934f6",
        "outputId": "e504d130-2b41-4b2f-95b7-0bc512e8bb1f"
      },
      "outputs": [
        {
          "name": "stdout",
          "output_type": "stream",
          "text": [
            "apple\n",
            "banana\n",
            "cherry\n"
          ]
        }
      ],
      "source": [
        "fruits = [\"apple\", \"banana\", \"cherry\"] # define a variable fruits that is equal to the following list\n",
        "for x in fruits:                       # for every element, x, inside of the list fruits ... do the following\n",
        "  print(x)                             # print the element"
      ]
    },
    {
      "cell_type": "markdown",
      "id": "f98d7fff-6810-42ec-afd3-868d6d650cdf",
      "metadata": {
        "id": "f98d7fff-6810-42ec-afd3-868d6d650cdf"
      },
      "source": [
        "### An important (and initially confusing!) point to note:\n",
        "* the variable `x` in the code above is just an arbitrary variable that represents each element in the sequence. You could change this to element, or, y, or z, or beadling, or climate, or even fruits. It does not matter, it just represents an element!\n",
        "Note in the below that you can change this variable to any name!"
      ]
    },
    {
      "cell_type": "code",
      "execution_count": null,
      "id": "a16f6239-64a2-4f21-bce6-9c2f331c331c",
      "metadata": {
        "tags": [],
        "id": "a16f6239-64a2-4f21-bce6-9c2f331c331c",
        "outputId": "bfc98242-83b8-4089-c586-e6356e3babeb"
      },
      "outputs": [
        {
          "name": "stdout",
          "output_type": "stream",
          "text": [
            "apple\n",
            "banana\n",
            "cherry\n"
          ]
        }
      ],
      "source": [
        "fruits = [\"apple\", \"banana\", \"cherry\"]        # define a variable fruits that is equal to the following list\n",
        "for elements in fruits:                       # for each element, x, inside of the list fruits ... do the following\n",
        "  print(elements)                             # print the element"
      ]
    },
    {
      "cell_type": "markdown",
      "id": "7351c26c-95ee-49fe-8998-dc83837d9eea",
      "metadata": {
        "id": "7351c26c-95ee-49fe-8998-dc83837d9eea"
      },
      "source": [
        "### Even strings are iterable objects, they contain a sequence of characters:"
      ]
    },
    {
      "cell_type": "code",
      "execution_count": null,
      "id": "7260218a-9742-4cd1-88ec-35ce8e8e7930",
      "metadata": {
        "tags": [],
        "id": "7260218a-9742-4cd1-88ec-35ce8e8e7930",
        "outputId": "4a8f531a-43e8-4eeb-816c-872e1736623a"
      },
      "outputs": [
        {
          "name": "stdout",
          "output_type": "stream",
          "text": [
            "c\n",
            "l\n",
            "i\n",
            "m\n",
            "a\n",
            "t\n",
            "e\n"
          ]
        }
      ],
      "source": [
        "for x in \"climate\":\n",
        "  print(x)"
      ]
    },
    {
      "cell_type": "markdown",
      "id": "299dab51-bc62-43f5-a5d2-cb3143362e4d",
      "metadata": {
        "id": "299dab51-bc62-43f5-a5d2-cb3143362e4d"
      },
      "source": [
        "### Using `else` inside of a `for` or `while` loop specifies a block of code to be executed when the loop is finished:"
      ]
    },
    {
      "cell_type": "code",
      "execution_count": null,
      "id": "bf1077aa-5d1f-4db2-afb0-aebc7436a72d",
      "metadata": {
        "tags": [],
        "id": "bf1077aa-5d1f-4db2-afb0-aebc7436a72d",
        "outputId": "79ac23d0-1484-44f8-e949-f53b2e4d5837"
      },
      "outputs": [
        {
          "name": "stdout",
          "output_type": "stream",
          "text": [
            "0\n",
            "1\n",
            "2\n",
            "3\n",
            "i is no longer less than 4\n"
          ]
        }
      ],
      "source": [
        "i = 0\n",
        "while i < 4:\n",
        "    print(i)\n",
        "    i += 1\n",
        "else:\n",
        "    print(\"i is no longer less than 4\")"
      ]
    },
    {
      "cell_type": "code",
      "execution_count": null,
      "id": "00dc7a1f-1540-41ed-b2df-f45bed7b1708",
      "metadata": {
        "tags": [],
        "id": "00dc7a1f-1540-41ed-b2df-f45bed7b1708",
        "outputId": "f378dc0c-04f0-4677-8d4b-f95c14ddcdc8"
      },
      "outputs": [
        {
          "name": "stdout",
          "output_type": "stream",
          "text": [
            "c\n",
            "l\n",
            "i\n",
            "m\n",
            "a\n",
            "t\n",
            "e\n",
            " \n",
            "m\n",
            "o\n",
            "d\n",
            "e\n",
            "l\n",
            "i\n",
            "n\n",
            "g\n",
            "\n",
            "The word is done!\n"
          ]
        }
      ],
      "source": [
        "for x in \"climate modeling\":\n",
        "    print(x)\n",
        "else:\n",
        "    print()                     ## adds a space between the letters and the statement below.\n",
        "    print(\"The word is done!\")  ## print the string in the \"\"."
      ]
    },
    {
      "cell_type": "markdown",
      "id": "55d56643-a9ef-4cc3-b9ed-802b0ae86764",
      "metadata": {
        "id": "55d56643-a9ef-4cc3-b9ed-802b0ae86764"
      },
      "source": [
        "### <span style=\"color:red\"> Take 5 minutes and write 4 different progams, 2 while loops and 2 for loops in the code cells below. Accompanying your code, write using either comments within the code cell, or Markdown above the cell, what your code does, describing each line. Explain your code to the person sitting next to you after you are done."
      ]
    },
    {
      "cell_type": "code",
      "execution_count": null,
      "id": "566929ca-54c2-4897-a6e1-f1b16f3d904a",
      "metadata": {
        "id": "566929ca-54c2-4897-a6e1-f1b16f3d904a"
      },
      "outputs": [],
      "source": []
    },
    {
      "cell_type": "code",
      "execution_count": null,
      "id": "fa5a1758-e17e-465c-a1c2-51d04c5c20ed",
      "metadata": {
        "id": "fa5a1758-e17e-465c-a1c2-51d04c5c20ed"
      },
      "outputs": [],
      "source": []
    },
    {
      "cell_type": "code",
      "execution_count": null,
      "id": "53f4deea-c6e2-4ce7-b726-3718ec53d6c5",
      "metadata": {
        "id": "53f4deea-c6e2-4ce7-b726-3718ec53d6c5"
      },
      "outputs": [],
      "source": []
    },
    {
      "cell_type": "code",
      "execution_count": null,
      "id": "69264207-6d45-42fc-a253-2af58339d817",
      "metadata": {
        "id": "69264207-6d45-42fc-a253-2af58339d817"
      },
      "outputs": [],
      "source": []
    },
    {
      "cell_type": "markdown",
      "id": "77851f08-58f6-415d-89c3-9ace04cddecd",
      "metadata": {
        "id": "77851f08-58f6-415d-89c3-9ace04cddecd"
      },
      "source": [
        "# Defining Functions"
      ]
    },
    {
      "cell_type": "markdown",
      "id": "e74170ce-70aa-481f-ad86-c72c84edbdf0",
      "metadata": {
        "id": "e74170ce-70aa-481f-ad86-c72c84edbdf0"
      },
      "source": [
        "### A very useful skill to develop as a scientist using computer programming is to learn to use and write __functions__. A function is a block of code that runs when it is __called__, which you can pass data into (input parameters, or \"arguments\") and it will __return__ a desired result or do something in response.\n",
        "\n",
        "### __Why are functions useful?__ Imagine you were developing some code that calculates something and you found your self typing out the same lines of code over and over and over again. That is a waste of time (and space in your Jupyter Notebook) and exposes you to errors from copy and pasting or typing again and again.\n",
        "\n",
        "### We will just go over the basics here, but you should refer to this as your develop your skills in the class and build up the confidence to begin creating __elegant__ and __simple__ code.\n",
        "\n"
      ]
    },
    {
      "cell_type": "markdown",
      "id": "f0f714e3-7e20-4754-b6a0-dd1cde632582",
      "metadata": {
        "id": "f0f714e3-7e20-4754-b6a0-dd1cde632582"
      },
      "source": [
        "#### In Python, functions are defined using the keyword `def` followed by the name of your function (my_first_function in the example blow), closed parentheses (), and a colon (:).\n",
        "\n",
        "#### The code that your function will execute is indented below your `def` line."
      ]
    },
    {
      "cell_type": "code",
      "execution_count": null,
      "id": "618796a2-a74c-4dae-914b-f929a77c46db",
      "metadata": {
        "tags": [],
        "id": "618796a2-a74c-4dae-914b-f929a77c46db"
      },
      "outputs": [],
      "source": [
        "#### This is a very basic example showing the syntax, but this function does not take any input parameters (\"arguments\").\n",
        "\n",
        "def my_first_function():                            # define our function\n",
        "    print(\"this is my first function, woohoo!\")     # execute the code"
      ]
    },
    {
      "cell_type": "markdown",
      "id": "25da1368-d90a-479e-bc51-5014819e61d0",
      "metadata": {
        "id": "25da1368-d90a-479e-bc51-5014819e61d0"
      },
      "source": [
        "### Now to __call__ a function, meaning to run the code within the function, we must use the following syntax. We simply type the function name followed by closed parentheses:"
      ]
    },
    {
      "cell_type": "code",
      "execution_count": null,
      "id": "b176950a-71f0-4aea-b6a9-6831e8b43fc3",
      "metadata": {
        "tags": [],
        "id": "b176950a-71f0-4aea-b6a9-6831e8b43fc3",
        "outputId": "44216887-145e-4610-a3bc-450850f7f226"
      },
      "outputs": [
        {
          "name": "stdout",
          "output_type": "stream",
          "text": [
            "this is my first function, woohoo!\n"
          ]
        }
      ],
      "source": [
        "my_first_function()  ### Call function"
      ]
    },
    {
      "cell_type": "markdown",
      "id": "2c9c087a-3aa7-4830-b4c7-6137f7966017",
      "metadata": {
        "id": "2c9c087a-3aa7-4830-b4c7-6137f7966017"
      },
      "source": [
        "### The examples above provide the basic syntax of defining and calling a function on Python, but what if we want to pass information (data) into a function and have it do something with that data? We have to pass input parameters (\"arguments\") into the function and we need to define what input parameters the function accepts in our definition:"
      ]
    },
    {
      "cell_type": "code",
      "execution_count": null,
      "id": "8b598fa3-5982-4c6e-a344-b9141e19b6c3",
      "metadata": {
        "tags": [],
        "id": "8b598fa3-5982-4c6e-a344-b9141e19b6c3"
      },
      "outputs": [],
      "source": [
        "def my_first_function(name):                                      # define our function and the variable, name, as our input parameters\n",
        "    print(\"Hi\" + \" \" + name+\",\" + \" \" + \"this is your first function, woohoo!\")     # Use the variable name within our code."
      ]
    },
    {
      "cell_type": "markdown",
      "id": "7a37270d-813e-4791-996e-3fa3de6cdef7",
      "metadata": {
        "id": "7a37270d-813e-4791-996e-3fa3de6cdef7"
      },
      "source": [
        "### <span style=\"color:red\"> Execute the code below, what happens? Why?"
      ]
    },
    {
      "cell_type": "code",
      "execution_count": null,
      "id": "5f286236-ae50-4887-805f-40c4769e0af0",
      "metadata": {
        "tags": [],
        "id": "5f286236-ae50-4887-805f-40c4769e0af0",
        "outputId": "12423ccf-c695-47cf-8582-df0c4af07132"
      },
      "outputs": [
        {
          "ename": "TypeError",
          "evalue": "my_first_function() missing 1 required positional argument: 'name'",
          "output_type": "error",
          "traceback": [
            "\u001b[0;31m---------------------------------------------------------------------------\u001b[0m",
            "\u001b[0;31mTypeError\u001b[0m                                 Traceback (most recent call last)",
            "Cell \u001b[0;32mIn[9], line 1\u001b[0m\n\u001b[0;32m----> 1\u001b[0m \u001b[43mmy_first_function\u001b[49m\u001b[43m(\u001b[49m\u001b[43m)\u001b[49m\n",
            "\u001b[0;31mTypeError\u001b[0m: my_first_function() missing 1 required positional argument: 'name'"
          ]
        }
      ],
      "source": [
        "my_first_function()"
      ]
    },
    {
      "cell_type": "code",
      "execution_count": null,
      "id": "e935f596-5b17-4d64-9016-098205fcf7cd",
      "metadata": {
        "id": "e935f596-5b17-4d64-9016-098205fcf7cd"
      },
      "outputs": [],
      "source": []
    },
    {
      "cell_type": "code",
      "execution_count": null,
      "id": "fbb6d2d5-0b08-4618-9de9-c370027a150f",
      "metadata": {
        "tags": [],
        "id": "fbb6d2d5-0b08-4618-9de9-c370027a150f",
        "outputId": "51b70ddc-cad5-468b-a25b-a35e04336720"
      },
      "outputs": [
        {
          "name": "stdout",
          "output_type": "stream",
          "text": [
            "Hi Becki, this is your first function, woohoo!\n"
          ]
        }
      ],
      "source": [
        "my_first_function(\"Becki\")  ### Pass a string with a name in it to our function, my_first_function"
      ]
    },
    {
      "cell_type": "markdown",
      "id": "9e097930-5fe8-4a38-a3bf-cf528c92bda9",
      "metadata": {
        "id": "9e097930-5fe8-4a38-a3bf-cf528c92bda9"
      },
      "source": [
        "### <span style=\"color:red\"> What if we try to pass the function two names?"
      ]
    },
    {
      "cell_type": "markdown",
      "id": "ef2b8c73-83ef-4ca5-a997-189be74a56e8",
      "metadata": {
        "tags": [],
        "id": "ef2b8c73-83ef-4ca5-a997-189be74a56e8"
      },
      "source": [
        "my_first_function(\"Becki\",\"Beadling\")"
      ]
    },
    {
      "cell_type": "markdown",
      "id": "94d03224-bd0c-449c-be23-a0d679c3bab9",
      "metadata": {
        "id": "94d03224-bd0c-449c-be23-a0d679c3bab9"
      },
      "source": [
        "### By default, a function must be called with the __correct number of arguments__. Meaning that if your function expects 2 arguments, you have to call the function with 2 arguments, not more, and not less. This is important, otherwise you will get an error as shown above!"
      ]
    },
    {
      "cell_type": "markdown",
      "id": "a06eb9a2-86a8-40c7-b690-b3e0de0f176c",
      "metadata": {
        "tags": [],
        "id": "a06eb9a2-86a8-40c7-b690-b3e0de0f176c"
      },
      "source": [
        "### In the examples above, our code executes a print() statement, which my definition __returns__ a print out (as a string) of whatever is inside the ( ). But what if we wanted the code to execute a calculation and __return the result__ as a new variable that we could use?\n",
        "\n",
        "### In this case, we need to issue a `return` statement at the end of our function with the syntax of `return variable`"
      ]
    },
    {
      "cell_type": "code",
      "execution_count": null,
      "id": "ba69b6e6-4728-462a-b7f4-cfdeb8640ece",
      "metadata": {
        "tags": [],
        "id": "ba69b6e6-4728-462a-b7f4-cfdeb8640ece"
      },
      "outputs": [],
      "source": [
        "def convert_celcius_to_Kelvin(temp_C):\n",
        "    tempK = temp_C + 273.15\n",
        "    return tempK"
      ]
    },
    {
      "cell_type": "code",
      "execution_count": null,
      "id": "9c4bf665-2f62-4b0d-b0b3-1c76aca91ddd",
      "metadata": {
        "tags": [],
        "id": "9c4bf665-2f62-4b0d-b0b3-1c76aca91ddd"
      },
      "outputs": [],
      "source": [
        "T_Kelvin = convert_celcius_to_degrees(5)  # Passes 5 into the convert_celcius_to_degrees_function\n",
        "                                          # and saves the result as a new variable, T_Kelvin"
      ]
    },
    {
      "cell_type": "code",
      "execution_count": null,
      "id": "f5629e56-4fb2-4b90-8a64-2ebeac494f57",
      "metadata": {
        "tags": [],
        "id": "f5629e56-4fb2-4b90-8a64-2ebeac494f57",
        "outputId": "0f857fe5-af68-4381-f9c7-b8160637e2a9"
      },
      "outputs": [
        {
          "data": {
            "text/plain": [
              "(278.15, 5)"
            ]
          },
          "execution_count": 82,
          "metadata": {},
          "output_type": "execute_result"
        }
      ],
      "source": [
        "T_Kelvin"
      ]
    },
    {
      "cell_type": "markdown",
      "id": "964c00ba-2271-4c57-9f83-ea0470ca7193",
      "metadata": {
        "tags": [],
        "id": "964c00ba-2271-4c57-9f83-ea0470ca7193"
      },
      "source": [
        "### A function can return multiple variables. The variables will be returned in the order in which they are called."
      ]
    },
    {
      "cell_type": "code",
      "execution_count": null,
      "id": "34370da9-40d9-4417-9c6e-3eb93c66ff87",
      "metadata": {
        "tags": [],
        "id": "34370da9-40d9-4417-9c6e-3eb93c66ff87"
      },
      "outputs": [],
      "source": [
        "def convert_celcius_to_Kelvin(temp_C):\n",
        "    tempK = temp_C + 273.15\n",
        "    return tempK, temp_C           ## This will return BOTH the tempK and tempC variables defined in the function."
      ]
    },
    {
      "cell_type": "code",
      "execution_count": null,
      "id": "ecc6632e-b67f-42b4-8ddb-86099ea2d3c0",
      "metadata": {
        "tags": [],
        "id": "ecc6632e-b67f-42b4-8ddb-86099ea2d3c0"
      },
      "outputs": [],
      "source": [
        "T_Conversion = convert_celcius_to_Kelvin(5)"
      ]
    },
    {
      "cell_type": "code",
      "execution_count": null,
      "id": "bf45fa8a-1daa-4719-9646-e69be0d2a204",
      "metadata": {
        "tags": [],
        "id": "bf45fa8a-1daa-4719-9646-e69be0d2a204",
        "outputId": "67d84007-a06d-4186-de06-44ad0cf37fe6"
      },
      "outputs": [
        {
          "data": {
            "text/plain": [
              "(278.15, 5)"
            ]
          },
          "execution_count": 85,
          "metadata": {},
          "output_type": "execute_result"
        }
      ],
      "source": [
        "T_Conversion"
      ]
    },
    {
      "cell_type": "markdown",
      "id": "e3a9c522-720d-4a07-846d-c4c385abe052",
      "metadata": {
        "id": "e3a9c522-720d-4a07-846d-c4c385abe052"
      },
      "source": [
        "### Functions will return multiple results as a `tuple` data type. Recall the definition of a `tuple`, in our hello_world.ipynb. A `tuple` is a collection of elements inside ( ), similar to a `list` enclosed in [ ], but it is unchangeable (immutable!). We can index and slice a `tuple` just like a `list`, but we cannot modify the contents."
      ]
    },
    {
      "cell_type": "markdown",
      "id": "7f4051c7-19b7-465c-a7c8-e4ace13aaa1c",
      "metadata": {
        "id": "7f4051c7-19b7-465c-a7c8-e4ace13aaa1c"
      },
      "source": [
        "### <span style=\"color:red\"> Take a few minutes and review our lesson in idexing and slicing a `list` and write code in the cell below that defines a variable called Kelvin that is equal to the appropriate variable returned by T_Conversion. Repeat for a variable called Celcius. Chat with the person next to you if you have difficulties."
      ]
    },
    {
      "cell_type": "code",
      "execution_count": null,
      "id": "85a8c32e-714e-4272-8e27-3a87a05fa7e3",
      "metadata": {
        "tags": [],
        "id": "85a8c32e-714e-4272-8e27-3a87a05fa7e3"
      },
      "outputs": [],
      "source": [
        "Kelvin =\n",
        "Celcius ="
      ]
    },
    {
      "cell_type": "markdown",
      "id": "ec44d039-bbf7-4337-8d1c-1756327b006e",
      "metadata": {
        "id": "ec44d039-bbf7-4337-8d1c-1756327b006e"
      },
      "source": [
        "### <span style=\"color:red\"> In the space below, create a function that takes a temperature in Celcius and returns the temperature in Celcius, Fahreheit, and Kelvin. In cells below your function, Convert 36 Celcius and display the result in Kelvin, and Fahrenheit."
      ]
    },
    {
      "cell_type": "code",
      "execution_count": null,
      "id": "640c1055-b0fb-4f02-a85a-023d55d88db3",
      "metadata": {
        "tags": [],
        "id": "640c1055-b0fb-4f02-a85a-023d55d88db3"
      },
      "outputs": [],
      "source": []
    },
    {
      "cell_type": "code",
      "execution_count": null,
      "id": "6cce8675-0aa4-4b22-b46d-511a3431f97c",
      "metadata": {
        "id": "6cce8675-0aa4-4b22-b46d-511a3431f97c"
      },
      "outputs": [],
      "source": []
    },
    {
      "cell_type": "markdown",
      "id": "2ba5c088-76c3-4bcb-85ee-2df87bb7a854",
      "metadata": {
        "id": "2ba5c088-76c3-4bcb-85ee-2df87bb7a854"
      },
      "source": []
    },
    {
      "cell_type": "markdown",
      "id": "500db734-a101-4152-a2bb-617f78d86e41",
      "metadata": {
        "id": "500db734-a101-4152-a2bb-617f78d86e41"
      },
      "source": [
        "### A bit more sophistication: a function can take user specified options as arguments.\n",
        "### In the example below, the first argument is the input temperature, the second argument is the user specific units to convert to. By default the function will evaluate using Kelvin, unless the user specifies the `to_units` variable as `degrees F`:"
      ]
    },
    {
      "cell_type": "code",
      "execution_count": null,
      "id": "81ec3287-38d6-4d96-ab34-d546f8a00a0b",
      "metadata": {
        "tags": [],
        "id": "81ec3287-38d6-4d96-ab34-d546f8a00a0b"
      },
      "outputs": [],
      "source": [
        "def convert_celcius(temp, to_units='Kelvin'):\n",
        "    if to_units == 'Kelvin' :\n",
        "        new_temp = temp + 273.15\n",
        "    if to_units == 'degrees F' :\n",
        "        new_temp = temp * (9/5) + 32\n",
        "\n",
        "    return new_temp"
      ]
    },
    {
      "cell_type": "code",
      "execution_count": null,
      "id": "1f8fdaf5-c1df-4ce9-8d7e-7f02089a7191",
      "metadata": {
        "tags": [],
        "id": "1f8fdaf5-c1df-4ce9-8d7e-7f02089a7191",
        "outputId": "8e08502c-0b33-455b-f414-a1c47788987c"
      },
      "outputs": [
        {
          "data": {
            "text/plain": [
              "96.8"
            ]
          },
          "execution_count": 100,
          "metadata": {},
          "output_type": "execute_result"
        }
      ],
      "source": [
        "convert_celcius(36, to_units='degrees F')"
      ]
    },
    {
      "cell_type": "code",
      "execution_count": null,
      "id": "84489c9f-dbfd-44c6-bb15-ca57d10dc94a",
      "metadata": {
        "tags": [],
        "id": "84489c9f-dbfd-44c6-bb15-ca57d10dc94a",
        "outputId": "66d4bff6-b032-43da-e8c6-8837c4593c0b"
      },
      "outputs": [
        {
          "data": {
            "text/plain": [
              "309.15"
            ]
          },
          "execution_count": 101,
          "metadata": {},
          "output_type": "execute_result"
        }
      ],
      "source": [
        "convert_celcius(36, to_units='Kelvin')"
      ]
    },
    {
      "cell_type": "markdown",
      "id": "5122be5f-43f4-4c5a-b98a-7985fbe315aa",
      "metadata": {
        "id": "5122be5f-43f4-4c5a-b98a-7985fbe315aa"
      },
      "source": [
        "### It is __very good practice__ to include a __docstring__ at the top of all of your functions that you write, particularly when they are more complex so that you and your collaborators or users of your code know exactly what input parameters your function requires and what it returns. See below for an example. The descriptive text is enclosed in `\"\"\" \"\"\"` at the top of the function. All the text within the `\"\"\" \"\"\"` is ignored during the execution of the code, serving just like a #."
      ]
    },
    {
      "cell_type": "code",
      "execution_count": null,
      "id": "ba6f7a96-6ebe-421d-8c20-cf24cac2065f",
      "metadata": {
        "tags": [],
        "id": "ba6f7a96-6ebe-421d-8c20-cf24cac2065f"
      },
      "outputs": [],
      "source": [
        "def convert_celcius(temp, to_units='Kelvin'):\n",
        "\n",
        "    \"\"\"\n",
        "    This function converts degrees Celcius to\n",
        "    to either degrees F or Kelvin depending on\n",
        "    user specified input\n",
        "\n",
        "    Parameters\n",
        "    ----------\n",
        "    input : temp (int)\n",
        "    input : to_units (str), accepts 'Kelvin' or 'degrees F'\n",
        "\n",
        "    Returns\n",
        "    -------\n",
        "    output: new_temp (int)\n",
        "\n",
        "    \"\"\"\n",
        "\n",
        "    if to_units == 'Kelvin' :\n",
        "        new_temp = temp + 273.15\n",
        "    if to_units == 'degrees F' :\n",
        "        new_temp = temp * (9/5) + 32\n",
        "\n",
        "    return new_temp"
      ]
    },
    {
      "cell_type": "code",
      "execution_count": null,
      "id": "b1ffb7ab-c0be-4e4a-b43e-dd8dad7985c0",
      "metadata": {
        "tags": [],
        "id": "b1ffb7ab-c0be-4e4a-b43e-dd8dad7985c0",
        "outputId": "77a2f9ac-0bec-43cf-83cd-7f7c5ae63549"
      },
      "outputs": [
        {
          "data": {
            "text/plain": [
              "96.8"
            ]
          },
          "execution_count": 103,
          "metadata": {},
          "output_type": "execute_result"
        }
      ],
      "source": [
        "convert_celcius(36, to_units='degrees F')"
      ]
    },
    {
      "cell_type": "markdown",
      "id": "27147a18-c1d2-4532-8e31-d3c8c49ca480",
      "metadata": {
        "id": "27147a18-c1d2-4532-8e31-d3c8c49ca480"
      },
      "source": [
        "### <span style=\"color:red\"> In the space below, create a function takes a number as input and returns its square. You must include a docstring at the start of your function. In cell below your function, run it and make sure it returns the desired result."
      ]
    },
    {
      "cell_type": "code",
      "execution_count": null,
      "id": "166f25ab-a996-4ea8-905a-6d9b6310d7d9",
      "metadata": {
        "id": "166f25ab-a996-4ea8-905a-6d9b6310d7d9"
      },
      "outputs": [],
      "source": []
    },
    {
      "cell_type": "code",
      "execution_count": null,
      "id": "b5b59e16-64f4-407d-9be1-e6e2bf21e66a",
      "metadata": {
        "id": "b5b59e16-64f4-407d-9be1-e6e2bf21e66a"
      },
      "outputs": [],
      "source": []
    },
    {
      "cell_type": "markdown",
      "id": "93ad0ba8-116e-421b-bd3a-38e9396abe09",
      "metadata": {
        "id": "93ad0ba8-116e-421b-bd3a-38e9396abe09"
      },
      "source": [
        "## After you have completed the task above, complete the following exercises on each link below. DO NOT CLICK SHOW ANSWERS!!! CHALLENGE YOURSELF. If you do not understand something and are stuck, try to work it out with those around you.\n",
        "* ## __[if else exercises (1 - 7)](https://www.w3schools.com/python/exercise.asp?filename=exercise_ifelse1)__\n",
        "* ## __[while loop exercises (1 & 4)](https://www.w3schools.com/python/exercise.asp?filename=exercise_while_loops1)__\n",
        "* ## __[for loop exercises (1)](https://www.w3schools.com/python/exercise.asp?filename=exercise_for_loops1)__\n",
        "* ## __[functions exercises (1-4)](https://www.w3schools.com/python/exercise.asp?filename=exercise_for_loops1)__\n",
        "\n"
      ]
    },
    {
      "cell_type": "markdown",
      "id": "f8dae59f-c95d-45eb-967e-eda31299636e",
      "metadata": {
        "id": "f8dae59f-c95d-45eb-967e-eda31299636e"
      },
      "source": [
        "# We will pick up our next notebook with building an understanding of __arrays__ and how we can use the Python packages __Pandas__ and __Numpy__ to work with 1-dimensional climate datasets."
      ]
    },
    {
      "cell_type": "markdown",
      "id": "eae5a25c-901e-461e-bc93-e6ac272bddb9",
      "metadata": {
        "id": "eae5a25c-901e-461e-bc93-e6ac272bddb9"
      },
      "source": [
        "### Shutting down your notebook (don't do this yet!! These are just instructions for when class is over).\n",
        "### Before shutting down, save your notebook with the disc icon in the Notebook toolbar. Go to the the File menu and click Shut Down to close the browser table and Jupyter Lab itself."
      ]
    }
  ],
  "metadata": {
    "kernelspec": {
      "display_name": "Python 3 (ipykernel)",
      "language": "python",
      "name": "python3"
    },
    "language_info": {
      "codemirror_mode": {
        "name": "ipython",
        "version": 3
      },
      "file_extension": ".py",
      "mimetype": "text/x-python",
      "name": "python",
      "nbconvert_exporter": "python",
      "pygments_lexer": "ipython3",
      "version": "3.9.16"
    },
    "colab": {
      "provenance": []
    }
  },
  "nbformat": 4,
  "nbformat_minor": 5
}